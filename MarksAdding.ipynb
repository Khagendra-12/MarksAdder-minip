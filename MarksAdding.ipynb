{
  "nbformat": 4,
  "nbformat_minor": 0,
  "metadata": {
    "colab": {
      "provenance": [],
      "authorship_tag": "ABX9TyNLZHEUsENmLk/x6sHrRM+I",
      "include_colab_link": true
    },
    "kernelspec": {
      "name": "python3",
      "display_name": "Python 3"
    },
    "language_info": {
      "name": "python"
    }
  },
  "cells": [
    {
      "cell_type": "markdown",
      "metadata": {
        "id": "view-in-github",
        "colab_type": "text"
      },
      "source": [
        "<a href=\"https://colab.research.google.com/github/Khagendra-12/MarksAdder-minip/blob/main/MarksAdding.ipynb\" target=\"_parent\"><img src=\"https://colab.research.google.com/assets/colab-badge.svg\" alt=\"Open In Colab\"/></a>"
      ]
    },
    {
      "cell_type": "markdown",
      "source": [
        "# **Marks Adding Mini Project**\n",
        "\"marks.csv\" is a file that contains the marks of diffrent students. Some role numbers are repeated, the objective is to sum the marks of a specific student under a single entry."
      ],
      "metadata": {
        "id": "EyOBNvP3aCUF"
      }
    },
    {
      "cell_type": "markdown",
      "source": [
        "Import the csv library"
      ],
      "metadata": {
        "id": "4YM5-Fq5bLTt"
      }
    },
    {
      "cell_type": "code",
      "execution_count": 14,
      "metadata": {
        "id": "j9g5Ojih3Ie1"
      },
      "outputs": [],
      "source": [
        "import csv"
      ]
    },
    {
      "cell_type": "markdown",
      "source": [
        "Open the marks.csv file in read only mode.\n",
        "\n",
        "Use the csv.reader function to read the csv row by row and convert it into a string.\n",
        "\n",
        "Get header of the file."
      ],
      "metadata": {
        "id": "AXELiV2WcFQk"
      }
    },
    {
      "cell_type": "code",
      "source": [
        "file = open('marks.csv', 'r')\n",
        "csvreader = csv.reader(file)\n",
        "header = next(csvreader)"
      ],
      "metadata": {
        "id": "LRkBHF0sa11a"
      },
      "execution_count": 15,
      "outputs": []
    },
    {
      "cell_type": "markdown",
      "source": [
        "Create a new dictionary to store the total marks of each student.\n",
        "\n",
        "Store the value of the roll no. of student in x.\n",
        "\n",
        "if x already exits in totalMarks add the value of the marks, otherwise add x to totalMarks."
      ],
      "metadata": {
        "id": "_IdON2a8dW6q"
      }
    },
    {
      "cell_type": "code",
      "source": [
        "totalMarks={}\n",
        "for row in csvreader:\n",
        "  x=row[0]\n",
        "  if x in totalMarks:\n",
        "    totalMarks[x]+=int(row[1])\n",
        "  else:\n",
        "    totalMarks[x]=int(row[1])"
      ],
      "metadata": {
        "id": "jc5aUXnla4t0"
      },
      "execution_count": 16,
      "outputs": []
    },
    {
      "cell_type": "markdown",
      "source": [
        "Opens a file \"total.csv\" and gives it header Roll Number, Total Marks.\n",
        "\n",
        "Adds the roll number and total marks from totalMarks to total.csv."
      ],
      "metadata": {
        "id": "aYlU85MjfkI4"
      }
    },
    {
      "cell_type": "code",
      "source": [
        "fp = open('total.csv', 'w')\n",
        "fp.write(\"Roll Number, Total Marks\\n\")\n",
        "for key, value in totalMarks.items():\n",
        "  fp.write(f\"{key}, {value}\\n\")\n",
        "fp.close()\n",
        "file.close()"
      ],
      "metadata": {
        "id": "5w3GJ_D4a7HM"
      },
      "execution_count": 17,
      "outputs": []
    },
    {
      "cell_type": "markdown",
      "source": [
        "Prints conformation message."
      ],
      "metadata": {
        "id": "h1hH8Az6f8B9"
      }
    },
    {
      "cell_type": "code",
      "source": [
        "print(\"Added marks of all students (Open 'total.csv').\")"
      ],
      "metadata": {
        "colab": {
          "base_uri": "https://localhost:8080/"
        },
        "id": "VRu_OgkIa9Yf",
        "outputId": "c82a105f-6047-4bf7-81ad-2d1998e27501"
      },
      "execution_count": 18,
      "outputs": [
        {
          "output_type": "stream",
          "name": "stdout",
          "text": [
            "Added marks of all students (Open 'total.csv').\n"
          ]
        }
      ]
    }
  ]
}